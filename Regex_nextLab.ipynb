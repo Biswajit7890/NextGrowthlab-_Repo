{
  "nbformat": 4,
  "nbformat_minor": 0,
  "metadata": {
    "colab": {
      "name": "Regex.ipynb",
      "provenance": []
    },
    "kernelspec": {
      "name": "python3",
      "display_name": "Python 3"
    },
    "language_info": {
      "name": "python"
    }
  },
  "cells": [
    {
      "cell_type": "code",
      "execution_count": null,
      "metadata": {
        "id": "2qM5JJBt2VfU"
      },
      "outputs": [],
      "source": [
        "import re \n",
        "import ast\n",
        "import json"
      ]
    },
    {
      "cell_type": "code",
      "source": [
        "dict_str={\"orders\":[{\"id\":1},{\"id\":2},{\"id\":3},{\"id\":4},{\"id\":5},{\"id\":6},{\"id\":7},{\"id\":8},{\"id\":9},{\"id\":10},{\"id\":11},{\"id\":648},{\"id\":649},{\"id\":650},{\"id\":651},{\"id\":652},{\"id\":653}],\"errors\":[{\"code\":3,\"message\":\"[PHP Warning #2] count(): Parameter must be an array or an object that implements Countable (153)\"}]}"
      ],
      "metadata": {
        "id": "vSXlh3Ji2X9r"
      },
      "execution_count": null,
      "outputs": []
    },
    {
      "cell_type": "code",
      "source": [
        "str_text=json.dumps(dict_str)\n",
        "type(str_text)"
      ],
      "metadata": {
        "colab": {
          "base_uri": "https://localhost:8080/"
        },
        "id": "CAJHGfd-2YHl",
        "outputId": "a35dc998-81ae-4104-b088-88474a14bc7f"
      },
      "execution_count": null,
      "outputs": [
        {
          "output_type": "execute_result",
          "data": {
            "text/plain": [
              "str"
            ]
          },
          "metadata": {},
          "execution_count": 93
        }
      ]
    },
    {
      "cell_type": "code",
      "source": [
        "punc = '''!()-[]{};'\"\\,<>./?@#$%^&*_~'''\n",
        "for ele in str_text:\n",
        "    if ele in punc:\n",
        "        str_text = str_text.replace(ele, \"\")"
      ],
      "metadata": {
        "id": "dmauhfQ-2YX7"
      },
      "execution_count": null,
      "outputs": []
    },
    {
      "cell_type": "code",
      "source": [
        "digit_id = re.findall(r\"id:\\.?([ \\d.]+)\", str_text, re.IGNORECASE | re.MULTILINE)\n",
        "digit_code=re.findall(r\"code:\\.?([ \\d.]+)\", str_text, re.IGNORECASE | re.MULTILINE)"
      ],
      "metadata": {
        "id": "SYiYRLNa2Yom"
      },
      "execution_count": null,
      "outputs": []
    },
    {
      "cell_type": "code",
      "source": [
        "print(digit_code)\n",
        "print(digit_id )"
      ],
      "metadata": {
        "colab": {
          "base_uri": "https://localhost:8080/"
        },
        "id": "3I_0XXwW2YyO",
        "outputId": "05903cc6-b449-4b06-8827-d16ba7d28d02"
      },
      "execution_count": null,
      "outputs": [
        {
          "output_type": "stream",
          "name": "stdout",
          "text": [
            "[' 3 ']\n",
            "[' 1 ', ' 2 ', ' 3 ', ' 4 ', ' 5 ', ' 6 ', ' 7 ', ' 8 ', ' 9 ', ' 10 ', ' 11 ', ' 648 ', ' 649 ', ' 650 ', ' 651 ', ' 652 ', ' 653 ']\n"
          ]
        }
      ]
    }
  ]
}